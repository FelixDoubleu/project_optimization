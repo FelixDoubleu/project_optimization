{
 "cells": [
  {
   "cell_type": "code",
   "execution_count": 1,
   "metadata": {},
   "outputs": [],
   "source": [
    "# !pip3 install -r requirements.txt"
   ]
  },
  {
   "cell_type": "code",
   "execution_count": 2,
   "metadata": {},
   "outputs": [
    {
     "data": {
      "text/plain": [
       "<torch._C.Generator at 0x76b47ff3db70>"
      ]
     },
     "execution_count": 2,
     "metadata": {},
     "output_type": "execute_result"
    }
   ],
   "source": [
    "import torch\n",
    "from torch.utils.data import DataLoader\n",
    "from plotly import express as px\n",
    "from collections import Counter\n",
    "\n",
    "from modules.dataset import *\n",
    "from modules.utility import *\n",
    "from modules.trainer import *\n",
    "from modules.dataloader import *\n",
    "from modules.models import *\n",
    "\n",
    "torch.manual_seed(1)"
   ]
  },
  {
   "cell_type": "code",
   "execution_count": 3,
   "metadata": {},
   "outputs": [],
   "source": [
    "dataset = IntelImageClassificationDataset()\n",
    "# dataset = LinearProbingDataset(conversion_model=SqueezeNet_1_1(out_features=None)) # Linear Probing"
   ]
  },
  {
   "cell_type": "markdown",
   "metadata": {},
   "source": [
    "https://www.kaggle.com/datasets/puneet6060/intel-image-classification"
   ]
  },
  {
   "cell_type": "code",
   "execution_count": 4,
   "metadata": {},
   "outputs": [
    {
     "data": {
      "application/vnd.plotly.v1+json": {
       "config": {
        "plotlyServerURL": "https://plot.ly"
       },
       "data": [
        {
         "hovertemplate": "Categories=%{x}<br>Counts=%{y}<extra></extra>",
         "legendgroup": "",
         "marker": {
          "color": "#636efa",
          "pattern": {
           "shape": ""
          }
         },
         "name": "",
         "orientation": "v",
         "showlegend": false,
         "textposition": "auto",
         "type": "bar",
         "x": {
          "bdata": "AAECAwQF",
          "dtype": "i1"
         },
         "xaxis": "x",
         "y": {
          "bdata": "jwjfCGQJ0AniCE4J",
          "dtype": "i2"
         },
         "yaxis": "y"
        }
       ],
       "layout": {
        "barmode": "relative",
        "legend": {
         "tracegroupgap": 0
        },
        "template": {
         "data": {
          "bar": [
           {
            "error_x": {
             "color": "#2a3f5f"
            },
            "error_y": {
             "color": "#2a3f5f"
            },
            "marker": {
             "line": {
              "color": "#E5ECF6",
              "width": 0.5
             },
             "pattern": {
              "fillmode": "overlay",
              "size": 10,
              "solidity": 0.2
             }
            },
            "type": "bar"
           }
          ],
          "barpolar": [
           {
            "marker": {
             "line": {
              "color": "#E5ECF6",
              "width": 0.5
             },
             "pattern": {
              "fillmode": "overlay",
              "size": 10,
              "solidity": 0.2
             }
            },
            "type": "barpolar"
           }
          ],
          "carpet": [
           {
            "aaxis": {
             "endlinecolor": "#2a3f5f",
             "gridcolor": "white",
             "linecolor": "white",
             "minorgridcolor": "white",
             "startlinecolor": "#2a3f5f"
            },
            "baxis": {
             "endlinecolor": "#2a3f5f",
             "gridcolor": "white",
             "linecolor": "white",
             "minorgridcolor": "white",
             "startlinecolor": "#2a3f5f"
            },
            "type": "carpet"
           }
          ],
          "choropleth": [
           {
            "colorbar": {
             "outlinewidth": 0,
             "ticks": ""
            },
            "type": "choropleth"
           }
          ],
          "contour": [
           {
            "colorbar": {
             "outlinewidth": 0,
             "ticks": ""
            },
            "colorscale": [
             [
              0,
              "#0d0887"
             ],
             [
              0.1111111111111111,
              "#46039f"
             ],
             [
              0.2222222222222222,
              "#7201a8"
             ],
             [
              0.3333333333333333,
              "#9c179e"
             ],
             [
              0.4444444444444444,
              "#bd3786"
             ],
             [
              0.5555555555555556,
              "#d8576b"
             ],
             [
              0.6666666666666666,
              "#ed7953"
             ],
             [
              0.7777777777777778,
              "#fb9f3a"
             ],
             [
              0.8888888888888888,
              "#fdca26"
             ],
             [
              1,
              "#f0f921"
             ]
            ],
            "type": "contour"
           }
          ],
          "contourcarpet": [
           {
            "colorbar": {
             "outlinewidth": 0,
             "ticks": ""
            },
            "type": "contourcarpet"
           }
          ],
          "heatmap": [
           {
            "colorbar": {
             "outlinewidth": 0,
             "ticks": ""
            },
            "colorscale": [
             [
              0,
              "#0d0887"
             ],
             [
              0.1111111111111111,
              "#46039f"
             ],
             [
              0.2222222222222222,
              "#7201a8"
             ],
             [
              0.3333333333333333,
              "#9c179e"
             ],
             [
              0.4444444444444444,
              "#bd3786"
             ],
             [
              0.5555555555555556,
              "#d8576b"
             ],
             [
              0.6666666666666666,
              "#ed7953"
             ],
             [
              0.7777777777777778,
              "#fb9f3a"
             ],
             [
              0.8888888888888888,
              "#fdca26"
             ],
             [
              1,
              "#f0f921"
             ]
            ],
            "type": "heatmap"
           }
          ],
          "histogram": [
           {
            "marker": {
             "pattern": {
              "fillmode": "overlay",
              "size": 10,
              "solidity": 0.2
             }
            },
            "type": "histogram"
           }
          ],
          "histogram2d": [
           {
            "colorbar": {
             "outlinewidth": 0,
             "ticks": ""
            },
            "colorscale": [
             [
              0,
              "#0d0887"
             ],
             [
              0.1111111111111111,
              "#46039f"
             ],
             [
              0.2222222222222222,
              "#7201a8"
             ],
             [
              0.3333333333333333,
              "#9c179e"
             ],
             [
              0.4444444444444444,
              "#bd3786"
             ],
             [
              0.5555555555555556,
              "#d8576b"
             ],
             [
              0.6666666666666666,
              "#ed7953"
             ],
             [
              0.7777777777777778,
              "#fb9f3a"
             ],
             [
              0.8888888888888888,
              "#fdca26"
             ],
             [
              1,
              "#f0f921"
             ]
            ],
            "type": "histogram2d"
           }
          ],
          "histogram2dcontour": [
           {
            "colorbar": {
             "outlinewidth": 0,
             "ticks": ""
            },
            "colorscale": [
             [
              0,
              "#0d0887"
             ],
             [
              0.1111111111111111,
              "#46039f"
             ],
             [
              0.2222222222222222,
              "#7201a8"
             ],
             [
              0.3333333333333333,
              "#9c179e"
             ],
             [
              0.4444444444444444,
              "#bd3786"
             ],
             [
              0.5555555555555556,
              "#d8576b"
             ],
             [
              0.6666666666666666,
              "#ed7953"
             ],
             [
              0.7777777777777778,
              "#fb9f3a"
             ],
             [
              0.8888888888888888,
              "#fdca26"
             ],
             [
              1,
              "#f0f921"
             ]
            ],
            "type": "histogram2dcontour"
           }
          ],
          "mesh3d": [
           {
            "colorbar": {
             "outlinewidth": 0,
             "ticks": ""
            },
            "type": "mesh3d"
           }
          ],
          "parcoords": [
           {
            "line": {
             "colorbar": {
              "outlinewidth": 0,
              "ticks": ""
             }
            },
            "type": "parcoords"
           }
          ],
          "pie": [
           {
            "automargin": true,
            "type": "pie"
           }
          ],
          "scatter": [
           {
            "fillpattern": {
             "fillmode": "overlay",
             "size": 10,
             "solidity": 0.2
            },
            "type": "scatter"
           }
          ],
          "scatter3d": [
           {
            "line": {
             "colorbar": {
              "outlinewidth": 0,
              "ticks": ""
             }
            },
            "marker": {
             "colorbar": {
              "outlinewidth": 0,
              "ticks": ""
             }
            },
            "type": "scatter3d"
           }
          ],
          "scattercarpet": [
           {
            "marker": {
             "colorbar": {
              "outlinewidth": 0,
              "ticks": ""
             }
            },
            "type": "scattercarpet"
           }
          ],
          "scattergeo": [
           {
            "marker": {
             "colorbar": {
              "outlinewidth": 0,
              "ticks": ""
             }
            },
            "type": "scattergeo"
           }
          ],
          "scattergl": [
           {
            "marker": {
             "colorbar": {
              "outlinewidth": 0,
              "ticks": ""
             }
            },
            "type": "scattergl"
           }
          ],
          "scattermap": [
           {
            "marker": {
             "colorbar": {
              "outlinewidth": 0,
              "ticks": ""
             }
            },
            "type": "scattermap"
           }
          ],
          "scattermapbox": [
           {
            "marker": {
             "colorbar": {
              "outlinewidth": 0,
              "ticks": ""
             }
            },
            "type": "scattermapbox"
           }
          ],
          "scatterpolar": [
           {
            "marker": {
             "colorbar": {
              "outlinewidth": 0,
              "ticks": ""
             }
            },
            "type": "scatterpolar"
           }
          ],
          "scatterpolargl": [
           {
            "marker": {
             "colorbar": {
              "outlinewidth": 0,
              "ticks": ""
             }
            },
            "type": "scatterpolargl"
           }
          ],
          "scatterternary": [
           {
            "marker": {
             "colorbar": {
              "outlinewidth": 0,
              "ticks": ""
             }
            },
            "type": "scatterternary"
           }
          ],
          "surface": [
           {
            "colorbar": {
             "outlinewidth": 0,
             "ticks": ""
            },
            "colorscale": [
             [
              0,
              "#0d0887"
             ],
             [
              0.1111111111111111,
              "#46039f"
             ],
             [
              0.2222222222222222,
              "#7201a8"
             ],
             [
              0.3333333333333333,
              "#9c179e"
             ],
             [
              0.4444444444444444,
              "#bd3786"
             ],
             [
              0.5555555555555556,
              "#d8576b"
             ],
             [
              0.6666666666666666,
              "#ed7953"
             ],
             [
              0.7777777777777778,
              "#fb9f3a"
             ],
             [
              0.8888888888888888,
              "#fdca26"
             ],
             [
              1,
              "#f0f921"
             ]
            ],
            "type": "surface"
           }
          ],
          "table": [
           {
            "cells": {
             "fill": {
              "color": "#EBF0F8"
             },
             "line": {
              "color": "white"
             }
            },
            "header": {
             "fill": {
              "color": "#C8D4E3"
             },
             "line": {
              "color": "white"
             }
            },
            "type": "table"
           }
          ]
         },
         "layout": {
          "annotationdefaults": {
           "arrowcolor": "#2a3f5f",
           "arrowhead": 0,
           "arrowwidth": 1
          },
          "autotypenumbers": "strict",
          "coloraxis": {
           "colorbar": {
            "outlinewidth": 0,
            "ticks": ""
           }
          },
          "colorscale": {
           "diverging": [
            [
             0,
             "#8e0152"
            ],
            [
             0.1,
             "#c51b7d"
            ],
            [
             0.2,
             "#de77ae"
            ],
            [
             0.3,
             "#f1b6da"
            ],
            [
             0.4,
             "#fde0ef"
            ],
            [
             0.5,
             "#f7f7f7"
            ],
            [
             0.6,
             "#e6f5d0"
            ],
            [
             0.7,
             "#b8e186"
            ],
            [
             0.8,
             "#7fbc41"
            ],
            [
             0.9,
             "#4d9221"
            ],
            [
             1,
             "#276419"
            ]
           ],
           "sequential": [
            [
             0,
             "#0d0887"
            ],
            [
             0.1111111111111111,
             "#46039f"
            ],
            [
             0.2222222222222222,
             "#7201a8"
            ],
            [
             0.3333333333333333,
             "#9c179e"
            ],
            [
             0.4444444444444444,
             "#bd3786"
            ],
            [
             0.5555555555555556,
             "#d8576b"
            ],
            [
             0.6666666666666666,
             "#ed7953"
            ],
            [
             0.7777777777777778,
             "#fb9f3a"
            ],
            [
             0.8888888888888888,
             "#fdca26"
            ],
            [
             1,
             "#f0f921"
            ]
           ],
           "sequentialminus": [
            [
             0,
             "#0d0887"
            ],
            [
             0.1111111111111111,
             "#46039f"
            ],
            [
             0.2222222222222222,
             "#7201a8"
            ],
            [
             0.3333333333333333,
             "#9c179e"
            ],
            [
             0.4444444444444444,
             "#bd3786"
            ],
            [
             0.5555555555555556,
             "#d8576b"
            ],
            [
             0.6666666666666666,
             "#ed7953"
            ],
            [
             0.7777777777777778,
             "#fb9f3a"
            ],
            [
             0.8888888888888888,
             "#fdca26"
            ],
            [
             1,
             "#f0f921"
            ]
           ]
          },
          "colorway": [
           "#636efa",
           "#EF553B",
           "#00cc96",
           "#ab63fa",
           "#FFA15A",
           "#19d3f3",
           "#FF6692",
           "#B6E880",
           "#FF97FF",
           "#FECB52"
          ],
          "font": {
           "color": "#2a3f5f"
          },
          "geo": {
           "bgcolor": "white",
           "lakecolor": "white",
           "landcolor": "#E5ECF6",
           "showlakes": true,
           "showland": true,
           "subunitcolor": "white"
          },
          "hoverlabel": {
           "align": "left"
          },
          "hovermode": "closest",
          "mapbox": {
           "style": "light"
          },
          "paper_bgcolor": "white",
          "plot_bgcolor": "#E5ECF6",
          "polar": {
           "angularaxis": {
            "gridcolor": "white",
            "linecolor": "white",
            "ticks": ""
           },
           "bgcolor": "#E5ECF6",
           "radialaxis": {
            "gridcolor": "white",
            "linecolor": "white",
            "ticks": ""
           }
          },
          "scene": {
           "xaxis": {
            "backgroundcolor": "#E5ECF6",
            "gridcolor": "white",
            "gridwidth": 2,
            "linecolor": "white",
            "showbackground": true,
            "ticks": "",
            "zerolinecolor": "white"
           },
           "yaxis": {
            "backgroundcolor": "#E5ECF6",
            "gridcolor": "white",
            "gridwidth": 2,
            "linecolor": "white",
            "showbackground": true,
            "ticks": "",
            "zerolinecolor": "white"
           },
           "zaxis": {
            "backgroundcolor": "#E5ECF6",
            "gridcolor": "white",
            "gridwidth": 2,
            "linecolor": "white",
            "showbackground": true,
            "ticks": "",
            "zerolinecolor": "white"
           }
          },
          "shapedefaults": {
           "line": {
            "color": "#2a3f5f"
           }
          },
          "ternary": {
           "aaxis": {
            "gridcolor": "white",
            "linecolor": "white",
            "ticks": ""
           },
           "baxis": {
            "gridcolor": "white",
            "linecolor": "white",
            "ticks": ""
           },
           "bgcolor": "#E5ECF6",
           "caxis": {
            "gridcolor": "white",
            "linecolor": "white",
            "ticks": ""
           }
          },
          "title": {
           "x": 0.05
          },
          "xaxis": {
           "automargin": true,
           "gridcolor": "white",
           "linecolor": "white",
           "ticks": "",
           "title": {
            "standoff": 15
           },
           "zerolinecolor": "white",
           "zerolinewidth": 2
          },
          "yaxis": {
           "automargin": true,
           "gridcolor": "white",
           "linecolor": "white",
           "ticks": "",
           "title": {
            "standoff": 15
           },
           "zerolinecolor": "white",
           "zerolinewidth": 2
          }
         }
        },
        "title": {
         "text": "Distribution of Classes"
        },
        "xaxis": {
         "anchor": "y",
         "domain": [
          0,
          1
         ],
         "title": {
          "text": "Categories"
         }
        },
        "yaxis": {
         "anchor": "x",
         "domain": [
          0,
          1
         ],
         "title": {
          "text": "Counts"
         }
        }
       }
      }
     },
     "metadata": {},
     "output_type": "display_data"
    }
   ],
   "source": [
    "labels, values = zip(*Counter([item[1] for item in dataset.train_dataset]).items())\n",
    "fig = px.bar(x=labels, y=values, labels={'x': 'Categories', 'y': 'Counts'}, title='Distribution of Classes')\n",
    "fig.show()"
   ]
  },
  {
   "cell_type": "markdown",
   "metadata": {},
   "source": [
    "| n | label |\n",
    "| --- | --- |\n",
    "| 0 | buildings |\n",
    "| 1 | forest |\n",
    "| 2 | glacier |\n",
    "| 3 | mountain |\n",
    "| 4 | sea |\n",
    "| 5 | street |"
   ]
  },
  {
   "cell_type": "code",
   "execution_count": 5,
   "metadata": {},
   "outputs": [
    {
     "data": {
      "application/vnd.jupyter.widget-view+json": {
       "model_id": "ebb48fca091a470783317856842c7c2c",
       "version_major": 2,
       "version_minor": 0
      },
      "text/plain": [
       "BoundedIntText(value=0, description='item:', max=14033)"
      ]
     },
     "metadata": {},
     "output_type": "display_data"
    },
    {
     "data": {
      "application/vnd.plotly.v1+json": {
       "config": {
        "plotlyServerURL": "https://plot.ly"
       },
       "data": [
        {
         "hovertemplate": "x: %{x}<br>y: %{y}<extra></extra>",
         "name": "0",
         "source": "data:image/png;base64,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",
         "type": "image",
         "xaxis": "x",
         "yaxis": "y"
        }
       ],
       "layout": {
        "height": 300,
        "margin": {
         "t": 60
        },
        "template": {
         "data": {
          "bar": [
           {
            "error_x": {
             "color": "#2a3f5f"
            },
            "error_y": {
             "color": "#2a3f5f"
            },
            "marker": {
             "line": {
              "color": "#E5ECF6",
              "width": 0.5
             },
             "pattern": {
              "fillmode": "overlay",
              "size": 10,
              "solidity": 0.2
             }
            },
            "type": "bar"
           }
          ],
          "barpolar": [
           {
            "marker": {
             "line": {
              "color": "#E5ECF6",
              "width": 0.5
             },
             "pattern": {
              "fillmode": "overlay",
              "size": 10,
              "solidity": 0.2
             }
            },
            "type": "barpolar"
           }
          ],
          "carpet": [
           {
            "aaxis": {
             "endlinecolor": "#2a3f5f",
             "gridcolor": "white",
             "linecolor": "white",
             "minorgridcolor": "white",
             "startlinecolor": "#2a3f5f"
            },
            "baxis": {
             "endlinecolor": "#2a3f5f",
             "gridcolor": "white",
             "linecolor": "white",
             "minorgridcolor": "white",
             "startlinecolor": "#2a3f5f"
            },
            "type": "carpet"
           }
          ],
          "choropleth": [
           {
            "colorbar": {
             "outlinewidth": 0,
             "ticks": ""
            },
            "type": "choropleth"
           }
          ],
          "contour": [
           {
            "colorbar": {
             "outlinewidth": 0,
             "ticks": ""
            },
            "colorscale": [
             [
              0,
              "#0d0887"
             ],
             [
              0.1111111111111111,
              "#46039f"
             ],
             [
              0.2222222222222222,
              "#7201a8"
             ],
             [
              0.3333333333333333,
              "#9c179e"
             ],
             [
              0.4444444444444444,
              "#bd3786"
             ],
             [
              0.5555555555555556,
              "#d8576b"
             ],
             [
              0.6666666666666666,
              "#ed7953"
             ],
             [
              0.7777777777777778,
              "#fb9f3a"
             ],
             [
              0.8888888888888888,
              "#fdca26"
             ],
             [
              1,
              "#f0f921"
             ]
            ],
            "type": "contour"
           }
          ],
          "contourcarpet": [
           {
            "colorbar": {
             "outlinewidth": 0,
             "ticks": ""
            },
            "type": "contourcarpet"
           }
          ],
          "heatmap": [
           {
            "colorbar": {
             "outlinewidth": 0,
             "ticks": ""
            },
            "colorscale": [
             [
              0,
              "#0d0887"
             ],
             [
              0.1111111111111111,
              "#46039f"
             ],
             [
              0.2222222222222222,
              "#7201a8"
             ],
             [
              0.3333333333333333,
              "#9c179e"
             ],
             [
              0.4444444444444444,
              "#bd3786"
             ],
             [
              0.5555555555555556,
              "#d8576b"
             ],
             [
              0.6666666666666666,
              "#ed7953"
             ],
             [
              0.7777777777777778,
              "#fb9f3a"
             ],
             [
              0.8888888888888888,
              "#fdca26"
             ],
             [
              1,
              "#f0f921"
             ]
            ],
            "type": "heatmap"
           }
          ],
          "histogram": [
           {
            "marker": {
             "pattern": {
              "fillmode": "overlay",
              "size": 10,
              "solidity": 0.2
             }
            },
            "type": "histogram"
           }
          ],
          "histogram2d": [
           {
            "colorbar": {
             "outlinewidth": 0,
             "ticks": ""
            },
            "colorscale": [
             [
              0,
              "#0d0887"
             ],
             [
              0.1111111111111111,
              "#46039f"
             ],
             [
              0.2222222222222222,
              "#7201a8"
             ],
             [
              0.3333333333333333,
              "#9c179e"
             ],
             [
              0.4444444444444444,
              "#bd3786"
             ],
             [
              0.5555555555555556,
              "#d8576b"
             ],
             [
              0.6666666666666666,
              "#ed7953"
             ],
             [
              0.7777777777777778,
              "#fb9f3a"
             ],
             [
              0.8888888888888888,
              "#fdca26"
             ],
             [
              1,
              "#f0f921"
             ]
            ],
            "type": "histogram2d"
           }
          ],
          "histogram2dcontour": [
           {
            "colorbar": {
             "outlinewidth": 0,
             "ticks": ""
            },
            "colorscale": [
             [
              0,
              "#0d0887"
             ],
             [
              0.1111111111111111,
              "#46039f"
             ],
             [
              0.2222222222222222,
              "#7201a8"
             ],
             [
              0.3333333333333333,
              "#9c179e"
             ],
             [
              0.4444444444444444,
              "#bd3786"
             ],
             [
              0.5555555555555556,
              "#d8576b"
             ],
             [
              0.6666666666666666,
              "#ed7953"
             ],
             [
              0.7777777777777778,
              "#fb9f3a"
             ],
             [
              0.8888888888888888,
              "#fdca26"
             ],
             [
              1,
              "#f0f921"
             ]
            ],
            "type": "histogram2dcontour"
           }
          ],
          "mesh3d": [
           {
            "colorbar": {
             "outlinewidth": 0,
             "ticks": ""
            },
            "type": "mesh3d"
           }
          ],
          "parcoords": [
           {
            "line": {
             "colorbar": {
              "outlinewidth": 0,
              "ticks": ""
             }
            },
            "type": "parcoords"
           }
          ],
          "pie": [
           {
            "automargin": true,
            "type": "pie"
           }
          ],
          "scatter": [
           {
            "fillpattern": {
             "fillmode": "overlay",
             "size": 10,
             "solidity": 0.2
            },
            "type": "scatter"
           }
          ],
          "scatter3d": [
           {
            "line": {
             "colorbar": {
              "outlinewidth": 0,
              "ticks": ""
             }
            },
            "marker": {
             "colorbar": {
              "outlinewidth": 0,
              "ticks": ""
             }
            },
            "type": "scatter3d"
           }
          ],
          "scattercarpet": [
           {
            "marker": {
             "colorbar": {
              "outlinewidth": 0,
              "ticks": ""
             }
            },
            "type": "scattercarpet"
           }
          ],
          "scattergeo": [
           {
            "marker": {
             "colorbar": {
              "outlinewidth": 0,
              "ticks": ""
             }
            },
            "type": "scattergeo"
           }
          ],
          "scattergl": [
           {
            "marker": {
             "colorbar": {
              "outlinewidth": 0,
              "ticks": ""
             }
            },
            "type": "scattergl"
           }
          ],
          "scattermap": [
           {
            "marker": {
             "colorbar": {
              "outlinewidth": 0,
              "ticks": ""
             }
            },
            "type": "scattermap"
           }
          ],
          "scattermapbox": [
           {
            "marker": {
             "colorbar": {
              "outlinewidth": 0,
              "ticks": ""
             }
            },
            "type": "scattermapbox"
           }
          ],
          "scatterpolar": [
           {
            "marker": {
             "colorbar": {
              "outlinewidth": 0,
              "ticks": ""
             }
            },
            "type": "scatterpolar"
           }
          ],
          "scatterpolargl": [
           {
            "marker": {
             "colorbar": {
              "outlinewidth": 0,
              "ticks": ""
             }
            },
            "type": "scatterpolargl"
           }
          ],
          "scatterternary": [
           {
            "marker": {
             "colorbar": {
              "outlinewidth": 0,
              "ticks": ""
             }
            },
            "type": "scatterternary"
           }
          ],
          "surface": [
           {
            "colorbar": {
             "outlinewidth": 0,
             "ticks": ""
            },
            "colorscale": [
             [
              0,
              "#0d0887"
             ],
             [
              0.1111111111111111,
              "#46039f"
             ],
             [
              0.2222222222222222,
              "#7201a8"
             ],
             [
              0.3333333333333333,
              "#9c179e"
             ],
             [
              0.4444444444444444,
              "#bd3786"
             ],
             [
              0.5555555555555556,
              "#d8576b"
             ],
             [
              0.6666666666666666,
              "#ed7953"
             ],
             [
              0.7777777777777778,
              "#fb9f3a"
             ],
             [
              0.8888888888888888,
              "#fdca26"
             ],
             [
              1,
              "#f0f921"
             ]
            ],
            "type": "surface"
           }
          ],
          "table": [
           {
            "cells": {
             "fill": {
              "color": "#EBF0F8"
             },
             "line": {
              "color": "white"
             }
            },
            "header": {
             "fill": {
              "color": "#C8D4E3"
             },
             "line": {
              "color": "white"
             }
            },
            "type": "table"
           }
          ]
         },
         "layout": {
          "annotationdefaults": {
           "arrowcolor": "#2a3f5f",
           "arrowhead": 0,
           "arrowwidth": 1
          },
          "autotypenumbers": "strict",
          "coloraxis": {
           "colorbar": {
            "outlinewidth": 0,
            "ticks": ""
           }
          },
          "colorscale": {
           "diverging": [
            [
             0,
             "#8e0152"
            ],
            [
             0.1,
             "#c51b7d"
            ],
            [
             0.2,
             "#de77ae"
            ],
            [
             0.3,
             "#f1b6da"
            ],
            [
             0.4,
             "#fde0ef"
            ],
            [
             0.5,
             "#f7f7f7"
            ],
            [
             0.6,
             "#e6f5d0"
            ],
            [
             0.7,
             "#b8e186"
            ],
            [
             0.8,
             "#7fbc41"
            ],
            [
             0.9,
             "#4d9221"
            ],
            [
             1,
             "#276419"
            ]
           ],
           "sequential": [
            [
             0,
             "#0d0887"
            ],
            [
             0.1111111111111111,
             "#46039f"
            ],
            [
             0.2222222222222222,
             "#7201a8"
            ],
            [
             0.3333333333333333,
             "#9c179e"
            ],
            [
             0.4444444444444444,
             "#bd3786"
            ],
            [
             0.5555555555555556,
             "#d8576b"
            ],
            [
             0.6666666666666666,
             "#ed7953"
            ],
            [
             0.7777777777777778,
             "#fb9f3a"
            ],
            [
             0.8888888888888888,
             "#fdca26"
            ],
            [
             1,
             "#f0f921"
            ]
           ],
           "sequentialminus": [
            [
             0,
             "#0d0887"
            ],
            [
             0.1111111111111111,
             "#46039f"
            ],
            [
             0.2222222222222222,
             "#7201a8"
            ],
            [
             0.3333333333333333,
             "#9c179e"
            ],
            [
             0.4444444444444444,
             "#bd3786"
            ],
            [
             0.5555555555555556,
             "#d8576b"
            ],
            [
             0.6666666666666666,
             "#ed7953"
            ],
            [
             0.7777777777777778,
             "#fb9f3a"
            ],
            [
             0.8888888888888888,
             "#fdca26"
            ],
            [
             1,
             "#f0f921"
            ]
           ]
          },
          "colorway": [
           "#636efa",
           "#EF553B",
           "#00cc96",
           "#ab63fa",
           "#FFA15A",
           "#19d3f3",
           "#FF6692",
           "#B6E880",
           "#FF97FF",
           "#FECB52"
          ],
          "font": {
           "color": "#2a3f5f"
          },
          "geo": {
           "bgcolor": "white",
           "lakecolor": "white",
           "landcolor": "#E5ECF6",
           "showlakes": true,
           "showland": true,
           "subunitcolor": "white"
          },
          "hoverlabel": {
           "align": "left"
          },
          "hovermode": "closest",
          "mapbox": {
           "style": "light"
          },
          "paper_bgcolor": "white",
          "plot_bgcolor": "#E5ECF6",
          "polar": {
           "angularaxis": {
            "gridcolor": "white",
            "linecolor": "white",
            "ticks": ""
           },
           "bgcolor": "#E5ECF6",
           "radialaxis": {
            "gridcolor": "white",
            "linecolor": "white",
            "ticks": ""
           }
          },
          "scene": {
           "xaxis": {
            "backgroundcolor": "#E5ECF6",
            "gridcolor": "white",
            "gridwidth": 2,
            "linecolor": "white",
            "showbackground": true,
            "ticks": "",
            "zerolinecolor": "white"
           },
           "yaxis": {
            "backgroundcolor": "#E5ECF6",
            "gridcolor": "white",
            "gridwidth": 2,
            "linecolor": "white",
            "showbackground": true,
            "ticks": "",
            "zerolinecolor": "white"
           },
           "zaxis": {
            "backgroundcolor": "#E5ECF6",
            "gridcolor": "white",
            "gridwidth": 2,
            "linecolor": "white",
            "showbackground": true,
            "ticks": "",
            "zerolinecolor": "white"
           }
          },
          "shapedefaults": {
           "line": {
            "color": "#2a3f5f"
           }
          },
          "ternary": {
           "aaxis": {
            "gridcolor": "white",
            "linecolor": "white",
            "ticks": ""
           },
           "baxis": {
            "gridcolor": "white",
            "linecolor": "white",
            "ticks": ""
           },
           "bgcolor": "#E5ECF6",
           "caxis": {
            "gridcolor": "white",
            "linecolor": "white",
            "ticks": ""
           }
          },
          "title": {
           "x": 0.05
          },
          "xaxis": {
           "automargin": true,
           "gridcolor": "white",
           "linecolor": "white",
           "ticks": "",
           "title": {
            "standoff": 15
           },
           "zerolinecolor": "white",
           "zerolinewidth": 2
          },
          "yaxis": {
           "automargin": true,
           "gridcolor": "white",
           "linecolor": "white",
           "ticks": "",
           "title": {
            "standoff": 15
           },
           "zerolinecolor": "white",
           "zerolinewidth": 2
          }
         }
        },
        "title": {
         "text": "Dataset item<br><sup>Label: 0</sup>"
        },
        "xaxis": {
         "anchor": "y",
         "domain": [
          0,
          1
         ],
         "title": {
          "text": "x"
         }
        },
        "yaxis": {
         "anchor": "x",
         "domain": [
          0,
          1
         ],
         "title": {
          "text": "y"
         }
        }
       }
      }
     },
     "metadata": {},
     "output_type": "display_data"
    }
   ],
   "source": [
    "NotebookPlotter.plot_dataset_item_interactive(dataset.train_dataset) # cannot be used with LinearProbingDataset"
   ]
  },
  {
   "cell_type": "code",
   "execution_count": 6,
   "metadata": {},
   "outputs": [],
   "source": [
    "dataloader = DataLoader(dataset.train_dataset, batch_size=128, shuffle=True)\n",
    "# dataloader = NoDataLoader(dataset.train_dataset, batch_size=128, shuffle=True)"
   ]
  },
  {
   "cell_type": "code",
   "execution_count": null,
   "metadata": {},
   "outputs": [],
   "source": [
    "model = SqueezeNet_1_1()\n",
    "# model = LinearProbe()"
   ]
  },
  {
   "cell_type": "code",
   "execution_count": 8,
   "metadata": {},
   "outputs": [
    {
     "name": "stdout",
     "output_type": "stream",
     "text": [
      "model size: 2902296 Byte, parameter count: 725574\n"
     ]
    }
   ],
   "source": [
    "print(\"model size: {} Byte, parameter count: {}\".format(*Evaluator.size(model)))"
   ]
  },
  {
   "cell_type": "code",
   "execution_count": 9,
   "metadata": {},
   "outputs": [],
   "source": [
    "trainer = Trainer(\n",
    "    model,\n",
    "    optimizer=torch.optim.SGD(\n",
    "        model.parameters(),\n",
    "        lr=0.001,\n",
    "        momentum=0.99,\n",
    "        nesterov=True\n",
    "        )\n",
    "    )"
   ]
  },
  {
   "cell_type": "code",
   "execution_count": 10,
   "metadata": {},
   "outputs": [
    {
     "data": {
      "application/vnd.jupyter.widget-view+json": {
       "model_id": "8dd4eec8530d40b69a3be07ea28b4ed0",
       "version_major": 2,
       "version_minor": 0
      },
      "text/plain": [
       "  0%|          | 0/10 [00:00<?, ?it/s]"
      ]
     },
     "metadata": {},
     "output_type": "display_data"
    }
   ],
   "source": [
    "trainer.train(dataloader, epochs=10)"
   ]
  },
  {
   "cell_type": "code",
   "execution_count": null,
   "metadata": {},
   "outputs": [],
   "source": [
    "# torch.save(model.state_dict(), f\"{model.__class__.__name__}.pt\")"
   ]
  },
  {
   "cell_type": "code",
   "execution_count": 12,
   "metadata": {},
   "outputs": [
    {
     "name": "stdout",
     "output_type": "stream",
     "text": [
      "Accuracy:  0.9103198051452637\n"
     ]
    },
    {
     "data": {
      "application/vnd.plotly.v1+json": {
       "config": {
        "plotlyServerURL": "https://plot.ly"
       },
       "data": [
        {
         "coloraxis": "coloraxis",
         "hovertemplate": "Predicted Class: %{x}<br>True Class: %{y}<br>Number of Samples: %{z}<extra></extra>",
         "name": "0",
         "type": "heatmap",
         "xaxis": "x",
         "yaxis": "y",
         "z": {
          "bdata": "oQEAAAAAAQACABEAAADYAQAAAQABAAAAAwAFAL8BQgAeAAIAAgAEACoAyQESAAIAAgAEAAkABQDoAQIANwABAAAAAAAGALcB",
          "dtype": "i2",
          "shape": "6, 6"
         }
        }
       ],
       "layout": {
        "coloraxis": {
         "colorbar": {
          "title": {
           "text": "Number of Samples"
          }
         },
         "colorscale": [
          [
           0,
           "#0d0887"
          ],
          [
           0.1111111111111111,
           "#46039f"
          ],
          [
           0.2222222222222222,
           "#7201a8"
          ],
          [
           0.3333333333333333,
           "#9c179e"
          ],
          [
           0.4444444444444444,
           "#bd3786"
          ],
          [
           0.5555555555555556,
           "#d8576b"
          ],
          [
           0.6666666666666666,
           "#ed7953"
          ],
          [
           0.7777777777777778,
           "#fb9f3a"
          ],
          [
           0.8888888888888888,
           "#fdca26"
          ],
          [
           1,
           "#f0f921"
          ]
         ]
        },
        "height": 300,
        "template": {
         "data": {
          "bar": [
           {
            "error_x": {
             "color": "#2a3f5f"
            },
            "error_y": {
             "color": "#2a3f5f"
            },
            "marker": {
             "line": {
              "color": "#E5ECF6",
              "width": 0.5
             },
             "pattern": {
              "fillmode": "overlay",
              "size": 10,
              "solidity": 0.2
             }
            },
            "type": "bar"
           }
          ],
          "barpolar": [
           {
            "marker": {
             "line": {
              "color": "#E5ECF6",
              "width": 0.5
             },
             "pattern": {
              "fillmode": "overlay",
              "size": 10,
              "solidity": 0.2
             }
            },
            "type": "barpolar"
           }
          ],
          "carpet": [
           {
            "aaxis": {
             "endlinecolor": "#2a3f5f",
             "gridcolor": "white",
             "linecolor": "white",
             "minorgridcolor": "white",
             "startlinecolor": "#2a3f5f"
            },
            "baxis": {
             "endlinecolor": "#2a3f5f",
             "gridcolor": "white",
             "linecolor": "white",
             "minorgridcolor": "white",
             "startlinecolor": "#2a3f5f"
            },
            "type": "carpet"
           }
          ],
          "choropleth": [
           {
            "colorbar": {
             "outlinewidth": 0,
             "ticks": ""
            },
            "type": "choropleth"
           }
          ],
          "contour": [
           {
            "colorbar": {
             "outlinewidth": 0,
             "ticks": ""
            },
            "colorscale": [
             [
              0,
              "#0d0887"
             ],
             [
              0.1111111111111111,
              "#46039f"
             ],
             [
              0.2222222222222222,
              "#7201a8"
             ],
             [
              0.3333333333333333,
              "#9c179e"
             ],
             [
              0.4444444444444444,
              "#bd3786"
             ],
             [
              0.5555555555555556,
              "#d8576b"
             ],
             [
              0.6666666666666666,
              "#ed7953"
             ],
             [
              0.7777777777777778,
              "#fb9f3a"
             ],
             [
              0.8888888888888888,
              "#fdca26"
             ],
             [
              1,
              "#f0f921"
             ]
            ],
            "type": "contour"
           }
          ],
          "contourcarpet": [
           {
            "colorbar": {
             "outlinewidth": 0,
             "ticks": ""
            },
            "type": "contourcarpet"
           }
          ],
          "heatmap": [
           {
            "colorbar": {
             "outlinewidth": 0,
             "ticks": ""
            },
            "colorscale": [
             [
              0,
              "#0d0887"
             ],
             [
              0.1111111111111111,
              "#46039f"
             ],
             [
              0.2222222222222222,
              "#7201a8"
             ],
             [
              0.3333333333333333,
              "#9c179e"
             ],
             [
              0.4444444444444444,
              "#bd3786"
             ],
             [
              0.5555555555555556,
              "#d8576b"
             ],
             [
              0.6666666666666666,
              "#ed7953"
             ],
             [
              0.7777777777777778,
              "#fb9f3a"
             ],
             [
              0.8888888888888888,
              "#fdca26"
             ],
             [
              1,
              "#f0f921"
             ]
            ],
            "type": "heatmap"
           }
          ],
          "histogram": [
           {
            "marker": {
             "pattern": {
              "fillmode": "overlay",
              "size": 10,
              "solidity": 0.2
             }
            },
            "type": "histogram"
           }
          ],
          "histogram2d": [
           {
            "colorbar": {
             "outlinewidth": 0,
             "ticks": ""
            },
            "colorscale": [
             [
              0,
              "#0d0887"
             ],
             [
              0.1111111111111111,
              "#46039f"
             ],
             [
              0.2222222222222222,
              "#7201a8"
             ],
             [
              0.3333333333333333,
              "#9c179e"
             ],
             [
              0.4444444444444444,
              "#bd3786"
             ],
             [
              0.5555555555555556,
              "#d8576b"
             ],
             [
              0.6666666666666666,
              "#ed7953"
             ],
             [
              0.7777777777777778,
              "#fb9f3a"
             ],
             [
              0.8888888888888888,
              "#fdca26"
             ],
             [
              1,
              "#f0f921"
             ]
            ],
            "type": "histogram2d"
           }
          ],
          "histogram2dcontour": [
           {
            "colorbar": {
             "outlinewidth": 0,
             "ticks": ""
            },
            "colorscale": [
             [
              0,
              "#0d0887"
             ],
             [
              0.1111111111111111,
              "#46039f"
             ],
             [
              0.2222222222222222,
              "#7201a8"
             ],
             [
              0.3333333333333333,
              "#9c179e"
             ],
             [
              0.4444444444444444,
              "#bd3786"
             ],
             [
              0.5555555555555556,
              "#d8576b"
             ],
             [
              0.6666666666666666,
              "#ed7953"
             ],
             [
              0.7777777777777778,
              "#fb9f3a"
             ],
             [
              0.8888888888888888,
              "#fdca26"
             ],
             [
              1,
              "#f0f921"
             ]
            ],
            "type": "histogram2dcontour"
           }
          ],
          "mesh3d": [
           {
            "colorbar": {
             "outlinewidth": 0,
             "ticks": ""
            },
            "type": "mesh3d"
           }
          ],
          "parcoords": [
           {
            "line": {
             "colorbar": {
              "outlinewidth": 0,
              "ticks": ""
             }
            },
            "type": "parcoords"
           }
          ],
          "pie": [
           {
            "automargin": true,
            "type": "pie"
           }
          ],
          "scatter": [
           {
            "fillpattern": {
             "fillmode": "overlay",
             "size": 10,
             "solidity": 0.2
            },
            "type": "scatter"
           }
          ],
          "scatter3d": [
           {
            "line": {
             "colorbar": {
              "outlinewidth": 0,
              "ticks": ""
             }
            },
            "marker": {
             "colorbar": {
              "outlinewidth": 0,
              "ticks": ""
             }
            },
            "type": "scatter3d"
           }
          ],
          "scattercarpet": [
           {
            "marker": {
             "colorbar": {
              "outlinewidth": 0,
              "ticks": ""
             }
            },
            "type": "scattercarpet"
           }
          ],
          "scattergeo": [
           {
            "marker": {
             "colorbar": {
              "outlinewidth": 0,
              "ticks": ""
             }
            },
            "type": "scattergeo"
           }
          ],
          "scattergl": [
           {
            "marker": {
             "colorbar": {
              "outlinewidth": 0,
              "ticks": ""
             }
            },
            "type": "scattergl"
           }
          ],
          "scattermap": [
           {
            "marker": {
             "colorbar": {
              "outlinewidth": 0,
              "ticks": ""
             }
            },
            "type": "scattermap"
           }
          ],
          "scattermapbox": [
           {
            "marker": {
             "colorbar": {
              "outlinewidth": 0,
              "ticks": ""
             }
            },
            "type": "scattermapbox"
           }
          ],
          "scatterpolar": [
           {
            "marker": {
             "colorbar": {
              "outlinewidth": 0,
              "ticks": ""
             }
            },
            "type": "scatterpolar"
           }
          ],
          "scatterpolargl": [
           {
            "marker": {
             "colorbar": {
              "outlinewidth": 0,
              "ticks": ""
             }
            },
            "type": "scatterpolargl"
           }
          ],
          "scatterternary": [
           {
            "marker": {
             "colorbar": {
              "outlinewidth": 0,
              "ticks": ""
             }
            },
            "type": "scatterternary"
           }
          ],
          "surface": [
           {
            "colorbar": {
             "outlinewidth": 0,
             "ticks": ""
            },
            "colorscale": [
             [
              0,
              "#0d0887"
             ],
             [
              0.1111111111111111,
              "#46039f"
             ],
             [
              0.2222222222222222,
              "#7201a8"
             ],
             [
              0.3333333333333333,
              "#9c179e"
             ],
             [
              0.4444444444444444,
              "#bd3786"
             ],
             [
              0.5555555555555556,
              "#d8576b"
             ],
             [
              0.6666666666666666,
              "#ed7953"
             ],
             [
              0.7777777777777778,
              "#fb9f3a"
             ],
             [
              0.8888888888888888,
              "#fdca26"
             ],
             [
              1,
              "#f0f921"
             ]
            ],
            "type": "surface"
           }
          ],
          "table": [
           {
            "cells": {
             "fill": {
              "color": "#EBF0F8"
             },
             "line": {
              "color": "white"
             }
            },
            "header": {
             "fill": {
              "color": "#C8D4E3"
             },
             "line": {
              "color": "white"
             }
            },
            "type": "table"
           }
          ]
         },
         "layout": {
          "annotationdefaults": {
           "arrowcolor": "#2a3f5f",
           "arrowhead": 0,
           "arrowwidth": 1
          },
          "autotypenumbers": "strict",
          "coloraxis": {
           "colorbar": {
            "outlinewidth": 0,
            "ticks": ""
           }
          },
          "colorscale": {
           "diverging": [
            [
             0,
             "#8e0152"
            ],
            [
             0.1,
             "#c51b7d"
            ],
            [
             0.2,
             "#de77ae"
            ],
            [
             0.3,
             "#f1b6da"
            ],
            [
             0.4,
             "#fde0ef"
            ],
            [
             0.5,
             "#f7f7f7"
            ],
            [
             0.6,
             "#e6f5d0"
            ],
            [
             0.7,
             "#b8e186"
            ],
            [
             0.8,
             "#7fbc41"
            ],
            [
             0.9,
             "#4d9221"
            ],
            [
             1,
             "#276419"
            ]
           ],
           "sequential": [
            [
             0,
             "#0d0887"
            ],
            [
             0.1111111111111111,
             "#46039f"
            ],
            [
             0.2222222222222222,
             "#7201a8"
            ],
            [
             0.3333333333333333,
             "#9c179e"
            ],
            [
             0.4444444444444444,
             "#bd3786"
            ],
            [
             0.5555555555555556,
             "#d8576b"
            ],
            [
             0.6666666666666666,
             "#ed7953"
            ],
            [
             0.7777777777777778,
             "#fb9f3a"
            ],
            [
             0.8888888888888888,
             "#fdca26"
            ],
            [
             1,
             "#f0f921"
            ]
           ],
           "sequentialminus": [
            [
             0,
             "#0d0887"
            ],
            [
             0.1111111111111111,
             "#46039f"
            ],
            [
             0.2222222222222222,
             "#7201a8"
            ],
            [
             0.3333333333333333,
             "#9c179e"
            ],
            [
             0.4444444444444444,
             "#bd3786"
            ],
            [
             0.5555555555555556,
             "#d8576b"
            ],
            [
             0.6666666666666666,
             "#ed7953"
            ],
            [
             0.7777777777777778,
             "#fb9f3a"
            ],
            [
             0.8888888888888888,
             "#fdca26"
            ],
            [
             1,
             "#f0f921"
            ]
           ]
          },
          "colorway": [
           "#636efa",
           "#EF553B",
           "#00cc96",
           "#ab63fa",
           "#FFA15A",
           "#19d3f3",
           "#FF6692",
           "#B6E880",
           "#FF97FF",
           "#FECB52"
          ],
          "font": {
           "color": "#2a3f5f"
          },
          "geo": {
           "bgcolor": "white",
           "lakecolor": "white",
           "landcolor": "#E5ECF6",
           "showlakes": true,
           "showland": true,
           "subunitcolor": "white"
          },
          "hoverlabel": {
           "align": "left"
          },
          "hovermode": "closest",
          "mapbox": {
           "style": "light"
          },
          "paper_bgcolor": "white",
          "plot_bgcolor": "#E5ECF6",
          "polar": {
           "angularaxis": {
            "gridcolor": "white",
            "linecolor": "white",
            "ticks": ""
           },
           "bgcolor": "#E5ECF6",
           "radialaxis": {
            "gridcolor": "white",
            "linecolor": "white",
            "ticks": ""
           }
          },
          "scene": {
           "xaxis": {
            "backgroundcolor": "#E5ECF6",
            "gridcolor": "white",
            "gridwidth": 2,
            "linecolor": "white",
            "showbackground": true,
            "ticks": "",
            "zerolinecolor": "white"
           },
           "yaxis": {
            "backgroundcolor": "#E5ECF6",
            "gridcolor": "white",
            "gridwidth": 2,
            "linecolor": "white",
            "showbackground": true,
            "ticks": "",
            "zerolinecolor": "white"
           },
           "zaxis": {
            "backgroundcolor": "#E5ECF6",
            "gridcolor": "white",
            "gridwidth": 2,
            "linecolor": "white",
            "showbackground": true,
            "ticks": "",
            "zerolinecolor": "white"
           }
          },
          "shapedefaults": {
           "line": {
            "color": "#2a3f5f"
           }
          },
          "ternary": {
           "aaxis": {
            "gridcolor": "white",
            "linecolor": "white",
            "ticks": ""
           },
           "baxis": {
            "gridcolor": "white",
            "linecolor": "white",
            "ticks": ""
           },
           "bgcolor": "#E5ECF6",
           "caxis": {
            "gridcolor": "white",
            "linecolor": "white",
            "ticks": ""
           }
          },
          "title": {
           "x": 0.05
          },
          "xaxis": {
           "automargin": true,
           "gridcolor": "white",
           "linecolor": "white",
           "ticks": "",
           "title": {
            "standoff": 15
           },
           "zerolinecolor": "white",
           "zerolinewidth": 2
          },
          "yaxis": {
           "automargin": true,
           "gridcolor": "white",
           "linecolor": "white",
           "ticks": "",
           "title": {
            "standoff": 15
           },
           "zerolinecolor": "white",
           "zerolinewidth": 2
          }
         }
        },
        "title": {
         "text": "Confusion Matrix"
        },
        "xaxis": {
         "anchor": "y",
         "constrain": "domain",
         "domain": [
          0,
          1
         ],
         "scaleanchor": "y",
         "title": {
          "text": "Predicted Class"
         }
        },
        "yaxis": {
         "anchor": "x",
         "autorange": "reversed",
         "constrain": "domain",
         "domain": [
          0,
          1
         ],
         "title": {
          "text": "True Class"
         }
        }
       }
      }
     },
     "metadata": {},
     "output_type": "display_data"
    }
   ],
   "source": [
    "session = InferenceSession(model)\n",
    "output = session(torch.stack(tuple(item[0] for item in dataset.test_dataset)))\n",
    "target = torch.tensor(tuple(item[1] for item in dataset.test_dataset))\n",
    "print(\"Accuracy: \", Evaluator.acc(output, target).item())\n",
    "\n",
    "NotebookPlotter.plot_confusion_matrix(Evaluator.cm(output, target))"
   ]
  },
  {
   "cell_type": "code",
   "execution_count": 13,
   "metadata": {},
   "outputs": [],
   "source": [
    "# !tensorboard --logdir=./log"
   ]
  }
 ],
 "metadata": {
  "kernelspec": {
   "display_name": "venv",
   "language": "python",
   "name": "python3"
  },
  "language_info": {
   "codemirror_mode": {
    "name": "ipython",
    "version": 3
   },
   "file_extension": ".py",
   "mimetype": "text/x-python",
   "name": "python",
   "nbconvert_exporter": "python",
   "pygments_lexer": "ipython3",
   "version": "3.12.3"
  }
 },
 "nbformat": 4,
 "nbformat_minor": 2
}
